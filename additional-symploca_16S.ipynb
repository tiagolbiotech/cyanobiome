{
 "cells": [
  {
   "cell_type": "code",
   "execution_count": 2,
   "metadata": {},
   "outputs": [],
   "source": [
    "import glob\n",
    "import os\n",
    "import pandas as pd\n",
    "from Bio import SeqIO\n",
    "from natsort import natsorted\n",
    "import subprocess\n",
    "import numpy as np\n",
    "import re\n",
    "from Bio.Seq import Seq\n",
    "from Bio.SeqRecord import SeqRecord\n",
    "from Bio.Alphabet import IUPAC\n",
    "from Bio.Alphabet import generic_dna\n",
    "# import arrow\n",
    "from Bio import Phylo\n",
    "from Bio import SeqIO\n",
    "import matplotlib.pyplot as plt\n",
    "import time\n",
    "import string\n",
    "from pyfasta import Fasta\n",
    "%matplotlib inline"
   ]
  },
  {
   "cell_type": "markdown",
   "metadata": {},
   "source": [
    "**Identifying 16S genes with Barrnap**"
   ]
  },
  {
   "cell_type": "code",
   "execution_count": 5,
   "metadata": {},
   "outputs": [
    {
     "name": "stdout",
     "output_type": "stream",
     "text": [
      "Barrnap output already exists\n"
     ]
    }
   ],
   "source": [
    "!mkdir -p /Users/tiagoferreiraleao/Dropbox/tiago-NAS/cyanobiome/barrnap/\n",
    "\n",
    "def run_barrnap(inputs_folder,output_file,test=False):\n",
    "    start_time = time.time()\n",
    "    if os.path.exists(output_file):\n",
    "        print(\"Barrnap output already exists\")\n",
    "    else:\n",
    "        if test == True:\n",
    "            input_list = glob.glob(\"%s*.fasta\"%inputs_folder)[:5]\n",
    "        else:\n",
    "            input_list = glob.glob(\"%s*.fasta\"%inputs_folder)\n",
    "        count = 0\n",
    "        for item in input_list:\n",
    "            count += 1\n",
    "            cmd = \"barrnap --threads 12 %s | cat >> %s\"%(item,output_file)\n",
    "            subprocess.call(cmd,shell=True)\n",
    "        print('\\n' + \"Barrnap run finished! %s genomes probed. Result saved as %s.\"%(count,output_file))\n",
    "        print('\\n' + \"--- %s seconds ---\" %(time.time()-start_time))\n",
    "\n",
    "\n",
    "run_barrnap(\"/Volumes/TFL190831/cyanobiome_final_scaffolds/\",\n",
    "            \"/Users/tiagoferreiraleao/Dropbox/tiago-NAS/cyanobiome/barrnap/cyanobiome_rRNA.csv\")"
   ]
  },
  {
   "cell_type": "markdown",
   "metadata": {},
   "source": [
    "**Extracting 16S genes**"
   ]
  },
  {
   "cell_type": "code",
   "execution_count": 6,
   "metadata": {},
   "outputs": [],
   "source": [
    "def split_string_at(s, c, n):\n",
    "    words = s.split(c)\n",
    "    return c.join(words[:n]), c.join(words[n:])\n",
    "\n",
    "def extract_nucleotides(fastafile,contig_name,start,end):\n",
    "    if os.path.exists(fastafile):\n",
    "        f = Fasta(fastafile)\n",
    "        nucleotides = f[str(contig_name)][start:end]\n",
    "    else:\n",
    "        raise ValueError(\"Fasta file not found\")\n",
    "    return nucleotides\n",
    "\n",
    "def inspect_fasta(fastafile):\n",
    "    if os.path.exists(fastafile):\n",
    "        input_handle = open(fastafile, \"rU\")\n",
    "        for record in SeqIO.parse(input_handle, \"fasta\"):\n",
    "            if len(record.id) == 0:\n",
    "                raise ValueError(\"Fasta file contain blank header\")\n",
    "            if re.match('^[ATGCURYSWKMBVDHN]*$','%s'%record.seq):\n",
    "                continue\n",
    "            else:\n",
    "                raise ValueError(\"Fasta file contain unknown nucleotide\")\n",
    "        input_handle.close()\n",
    "    else:\n",
    "        raise ValueError(\"Fasta file not found\")\n",
    "    return True\n",
    "\n",
    "def rename_duplicated_fasta_headers(input_file):\n",
    "    outname = \"%s.ren.fasta\"%os.path.splitext(input_file)[0]\n",
    "    if os.path.exists(outname):\n",
    "        print(\"Renamed fasta file already exists\")\n",
    "    else:\n",
    "        header_list = []\n",
    "        new_file = []\n",
    "        if inspect_fasta(input_file) == True:\n",
    "            with open(input_file, \"rU\") as handle:\n",
    "                for record in SeqIO.parse(handle, \"fasta\"):\n",
    "                    header_list.append(record.id)\n",
    "                    count = header_list.count(record.id)\n",
    "                    record.id = \"%s_%s\"%(record.id,string.ascii_uppercase[count-1])\n",
    "                    record.description = \"\"\n",
    "                    new_file.append(record)\n",
    "                output_handle = open(outname, \"w\")\n",
    "                SeqIO.write(new_file, output_handle, \"fasta\")\n",
    "                output_handle.close()\n",
    "\n",
    "def fetch_barrnap_rRNA_genes(input_dir,barrnap_df,rRNA,output_file):\n",
    "    rRNA_options = ['5S','16S','23S']\n",
    "    if rRNA not in rRNA_options:\n",
    "        raise ValueError(\"Select '5S', '16S' or '23S' as the rRNA to be fetched\")\n",
    "    else:\n",
    "        records = []\n",
    "        for i,r in barrnap_df.iterrows():\n",
    "            m = re.search(r'%s'%rRNA,barrnap_df.i.loc[i])\n",
    "            if m:\n",
    "                strain_name = 'SIO' + split_string_at(barrnap_df.a.loc[i],'_',1)[0]\n",
    "                fastafile = \"%s%s.fasta\"%(input_dir,strain_name)\n",
    "                if os.path.exists(fastafile):\n",
    "                    nucleotides = extract_nucleotides(fastafile,barrnap_df.a.loc[i],\n",
    "                                                      int(barrnap_df.d.loc[i]),int(barrnap_df.e.loc[i]))\n",
    "                    seq = SeqRecord(Seq(nucleotides,generic_dna), id = \"%s\"%barrnap_df.a.loc[i], description=\"%s_gene\"%rRNA)\n",
    "                    records.append(seq)\n",
    "                else:\n",
    "                    raise ValueError(\"Fasta file %s not found\"%fastafile)\n",
    "    handle = open(\"%s\"%output_file, \"w\")\n",
    "    SeqIO.write(records,handle,\"fasta\")\n",
    "    handle.close\n",
    "    return records\n",
    "\n",
    "def extract_rRNA_genes(df,barrnap_input,genomes_folder,output_file,rRNA):\n",
    "    if os.path.exists(output_file):\n",
    "        print(\"%s genes fasta output already exists\"%rRNA)\n",
    "    else:\n",
    "        start_time = time.time()\n",
    "        records = fetch_barrnap_rRNA_genes(genomes_folder,df,rRNA,output_file)\n",
    "        rename_duplicated_fasta_headers(output_file)\n",
    "        count = len(records)\n",
    "        print(\"%s %s genes extracted! Fasta files saved as %s and %s.ren.fasta.\"%(count,rRNA,output_file,\n",
    "                                                                                  os.path.splitext(output_file)[0]))\n",
    "        print('\\n' + \"--- %s seconds ---\" %(time.time()-start_time))"
   ]
  },
  {
   "cell_type": "code",
   "execution_count": 7,
   "metadata": {},
   "outputs": [
    {
     "name": "stdout",
     "output_type": "stream",
     "text": [
      "16S genes fasta output already exists\n"
     ]
    }
   ],
   "source": [
    "barrnap_file = \"/Users/tiagoferreiraleao/Dropbox/tiago-NAS/cyanobiome/barrnap/cyanobiome_rRNA.csv\"\n",
    "barrnap_df = pd.read_csv(barrnap_file,names=list(string.ascii_lowercase)[0:9],sep='\\t').dropna()\n",
    "\n",
    "extract_rRNA_genes(barrnap_df,barrnap_file,\n",
    "                   \"/Volumes/TFL190831//cyanobiome_final_scaffolds/\",\n",
    "                   \"/Users/tiagoferreiraleao/Dropbox/tiago-NAS/cyanobiome/barrnap/cyanobiome_16S.fasta\",\"16S\")"
   ]
  },
  {
   "cell_type": "markdown",
   "metadata": {},
   "source": [
    "**Classifying 16S sequences with RDP**\n",
    "\n",
    "```\n",
    "- File \"cyanobiome_16S.ren.fasta\" was submitted to RDP, generating \"allrank_cyanobiome_16S.ren.fasta_classified.txt\"\n",
    "```"
   ]
  },
  {
   "cell_type": "code",
   "execution_count": 8,
   "metadata": {},
   "outputs": [
    {
     "data": {
      "text/html": [
       "<div>\n",
       "<style scoped>\n",
       "    .dataframe tbody tr th:only-of-type {\n",
       "        vertical-align: middle;\n",
       "    }\n",
       "\n",
       "    .dataframe tbody tr th {\n",
       "        vertical-align: top;\n",
       "    }\n",
       "\n",
       "    .dataframe thead th {\n",
       "        text-align: right;\n",
       "    }\n",
       "</style>\n",
       "<table border=\"1\" class=\"dataframe\">\n",
       "  <thead>\n",
       "    <tr style=\"text-align: right;\">\n",
       "      <th></th>\n",
       "      <th>a</th>\n",
       "      <th>b</th>\n",
       "      <th>c</th>\n",
       "      <th>d</th>\n",
       "      <th>e</th>\n",
       "      <th>f</th>\n",
       "      <th>g</th>\n",
       "      <th>h</th>\n",
       "      <th>i</th>\n",
       "      <th>j</th>\n",
       "      <th>k</th>\n",
       "      <th>l</th>\n",
       "      <th>m</th>\n",
       "      <th>n</th>\n",
       "    </tr>\n",
       "  </thead>\n",
       "  <tbody>\n",
       "    <tr>\n",
       "      <th>0</th>\n",
       "      <td>3G5_NODE_8_A</td>\n",
       "      <td>-</td>\n",
       "      <td>Root</td>\n",
       "      <td>100%</td>\n",
       "      <td>Bacteria</td>\n",
       "      <td>100%</td>\n",
       "      <td>Cyanobacteria/Chloroplast</td>\n",
       "      <td>100%</td>\n",
       "      <td>Cyanobacteria</td>\n",
       "      <td>100%</td>\n",
       "      <td>Family_I</td>\n",
       "      <td>79%</td>\n",
       "      <td>Potamolinea</td>\n",
       "      <td>59%</td>\n",
       "    </tr>\n",
       "    <tr>\n",
       "      <th>1</th>\n",
       "      <td>1F9_NODE_11_A</td>\n",
       "      <td>+</td>\n",
       "      <td>Root</td>\n",
       "      <td>100%</td>\n",
       "      <td>Bacteria</td>\n",
       "      <td>100%</td>\n",
       "      <td>Cyanobacteria/Chloroplast</td>\n",
       "      <td>100%</td>\n",
       "      <td>Cyanobacteria</td>\n",
       "      <td>100%</td>\n",
       "      <td>Family_XII</td>\n",
       "      <td>100%</td>\n",
       "      <td>GpXII</td>\n",
       "      <td>100%</td>\n",
       "    </tr>\n",
       "    <tr>\n",
       "      <th>2</th>\n",
       "      <td>2C4_NODE_10_A</td>\n",
       "      <td>-</td>\n",
       "      <td>Root</td>\n",
       "      <td>100%</td>\n",
       "      <td>Bacteria</td>\n",
       "      <td>100%</td>\n",
       "      <td>Cyanobacteria/Chloroplast</td>\n",
       "      <td>100%</td>\n",
       "      <td>Cyanobacteria</td>\n",
       "      <td>100%</td>\n",
       "      <td>Family_I</td>\n",
       "      <td>72%</td>\n",
       "      <td>Potamolinea</td>\n",
       "      <td>36%</td>\n",
       "    </tr>\n",
       "    <tr>\n",
       "      <th>3</th>\n",
       "      <td>2C4_NODE_201_A</td>\n",
       "      <td>-</td>\n",
       "      <td>Root</td>\n",
       "      <td>100%</td>\n",
       "      <td>Archaea</td>\n",
       "      <td>71%</td>\n",
       "      <td>Crenarchaeota</td>\n",
       "      <td>44%</td>\n",
       "      <td>Thermoprotei</td>\n",
       "      <td>44%</td>\n",
       "      <td>Thermoproteales</td>\n",
       "      <td>20%</td>\n",
       "      <td>Thermoproteaceae</td>\n",
       "      <td>20%</td>\n",
       "    </tr>\n",
       "    <tr>\n",
       "      <th>4</th>\n",
       "      <td>1G2_NODE_259_A</td>\n",
       "      <td>-</td>\n",
       "      <td>Root</td>\n",
       "      <td>100%</td>\n",
       "      <td>Archaea</td>\n",
       "      <td>67%</td>\n",
       "      <td>Crenarchaeota</td>\n",
       "      <td>43%</td>\n",
       "      <td>Thermoprotei</td>\n",
       "      <td>43%</td>\n",
       "      <td>Thermoproteales</td>\n",
       "      <td>33%</td>\n",
       "      <td>Thermoproteaceae</td>\n",
       "      <td>33%</td>\n",
       "    </tr>\n",
       "  </tbody>\n",
       "</table>\n",
       "</div>"
      ],
      "text/plain": [
       "                a  b     c     d         e     f                          g  \\\n",
       "0    3G5_NODE_8_A  -  Root  100%  Bacteria  100%  Cyanobacteria/Chloroplast   \n",
       "1   1F9_NODE_11_A  +  Root  100%  Bacteria  100%  Cyanobacteria/Chloroplast   \n",
       "2   2C4_NODE_10_A  -  Root  100%  Bacteria  100%  Cyanobacteria/Chloroplast   \n",
       "3  2C4_NODE_201_A  -  Root  100%   Archaea   71%              Crenarchaeota   \n",
       "4  1G2_NODE_259_A  -  Root  100%   Archaea   67%              Crenarchaeota   \n",
       "\n",
       "      h              i     j                k     l                 m     n  \n",
       "0  100%  Cyanobacteria  100%         Family_I   79%       Potamolinea   59%  \n",
       "1  100%  Cyanobacteria  100%       Family_XII  100%             GpXII  100%  \n",
       "2  100%  Cyanobacteria  100%         Family_I   72%       Potamolinea   36%  \n",
       "3   44%   Thermoprotei   44%  Thermoproteales   20%  Thermoproteaceae   20%  \n",
       "4   43%   Thermoprotei   43%  Thermoproteales   33%  Thermoproteaceae   33%  "
      ]
     },
     "execution_count": 8,
     "metadata": {},
     "output_type": "execute_result"
    }
   ],
   "source": [
    "def get_rdp_df(rdp_result):\n",
    "    if os.path.exists(rdp_result):\n",
    "        rdp_df = pd.read_csv(rdp_result,sep=';',skiprows=7,names=list(string.ascii_lowercase)[0:14])\n",
    "        rdp_df = rdp_df.stack().str.replace(' ', '_').unstack()\n",
    "    else:\n",
    "        raise ValueError(\"RDP-classifier file not found\")\n",
    "    return rdp_df\n",
    "\n",
    "rdp_df = get_rdp_df(\"/Users/tiagoferreiraleao/Dropbox/tiago-NAS/cyanobiome/barrnap/allrank_cyanobiome_16S.ren.fasta_classified.txt\")\n",
    "\n",
    "rdp_df[:5]"
   ]
  },
  {
   "cell_type": "markdown",
   "metadata": {},
   "source": [
    "**Subsetting Cyanobacteria**"
   ]
  },
  {
   "cell_type": "code",
   "execution_count": 9,
   "metadata": {},
   "outputs": [
    {
     "data": {
      "text/html": [
       "<div>\n",
       "<style scoped>\n",
       "    .dataframe tbody tr th:only-of-type {\n",
       "        vertical-align: middle;\n",
       "    }\n",
       "\n",
       "    .dataframe tbody tr th {\n",
       "        vertical-align: top;\n",
       "    }\n",
       "\n",
       "    .dataframe thead th {\n",
       "        text-align: right;\n",
       "    }\n",
       "</style>\n",
       "<table border=\"1\" class=\"dataframe\">\n",
       "  <thead>\n",
       "    <tr style=\"text-align: right;\">\n",
       "      <th></th>\n",
       "      <th>index</th>\n",
       "      <th>a</th>\n",
       "      <th>b</th>\n",
       "      <th>c</th>\n",
       "      <th>d</th>\n",
       "      <th>e</th>\n",
       "      <th>f</th>\n",
       "      <th>g</th>\n",
       "      <th>h</th>\n",
       "      <th>i</th>\n",
       "      <th>j</th>\n",
       "      <th>k</th>\n",
       "      <th>l</th>\n",
       "      <th>m</th>\n",
       "      <th>n</th>\n",
       "    </tr>\n",
       "  </thead>\n",
       "  <tbody>\n",
       "    <tr>\n",
       "      <th>0</th>\n",
       "      <td>0</td>\n",
       "      <td>3G5_NODE_8_A</td>\n",
       "      <td>-</td>\n",
       "      <td>Root</td>\n",
       "      <td>100%</td>\n",
       "      <td>Bacteria</td>\n",
       "      <td>100%</td>\n",
       "      <td>Cyanobacteria/Chloroplast</td>\n",
       "      <td>100%</td>\n",
       "      <td>Cyanobacteria</td>\n",
       "      <td>100%</td>\n",
       "      <td>Family_I</td>\n",
       "      <td>79%</td>\n",
       "      <td>Potamolinea</td>\n",
       "      <td>59%</td>\n",
       "    </tr>\n",
       "    <tr>\n",
       "      <th>1</th>\n",
       "      <td>1</td>\n",
       "      <td>1F9_NODE_11_A</td>\n",
       "      <td>+</td>\n",
       "      <td>Root</td>\n",
       "      <td>100%</td>\n",
       "      <td>Bacteria</td>\n",
       "      <td>100%</td>\n",
       "      <td>Cyanobacteria/Chloroplast</td>\n",
       "      <td>100%</td>\n",
       "      <td>Cyanobacteria</td>\n",
       "      <td>100%</td>\n",
       "      <td>Family_XII</td>\n",
       "      <td>100%</td>\n",
       "      <td>GpXII</td>\n",
       "      <td>100%</td>\n",
       "    </tr>\n",
       "    <tr>\n",
       "      <th>2</th>\n",
       "      <td>2</td>\n",
       "      <td>2C4_NODE_10_A</td>\n",
       "      <td>-</td>\n",
       "      <td>Root</td>\n",
       "      <td>100%</td>\n",
       "      <td>Bacteria</td>\n",
       "      <td>100%</td>\n",
       "      <td>Cyanobacteria/Chloroplast</td>\n",
       "      <td>100%</td>\n",
       "      <td>Cyanobacteria</td>\n",
       "      <td>100%</td>\n",
       "      <td>Family_I</td>\n",
       "      <td>72%</td>\n",
       "      <td>Potamolinea</td>\n",
       "      <td>36%</td>\n",
       "    </tr>\n",
       "    <tr>\n",
       "      <th>3</th>\n",
       "      <td>6</td>\n",
       "      <td>2G3_NODE_14_A</td>\n",
       "      <td>+</td>\n",
       "      <td>Root</td>\n",
       "      <td>100%</td>\n",
       "      <td>Bacteria</td>\n",
       "      <td>100%</td>\n",
       "      <td>Cyanobacteria/Chloroplast</td>\n",
       "      <td>100%</td>\n",
       "      <td>Cyanobacteria</td>\n",
       "      <td>100%</td>\n",
       "      <td>Family_I</td>\n",
       "      <td>100%</td>\n",
       "      <td>Potamolinea</td>\n",
       "      <td>100%</td>\n",
       "    </tr>\n",
       "    <tr>\n",
       "      <th>4</th>\n",
       "      <td>7</td>\n",
       "      <td>3C2_NODE_20_A</td>\n",
       "      <td>+</td>\n",
       "      <td>Root</td>\n",
       "      <td>100%</td>\n",
       "      <td>Bacteria</td>\n",
       "      <td>100%</td>\n",
       "      <td>Cyanobacteria/Chloroplast</td>\n",
       "      <td>100%</td>\n",
       "      <td>Cyanobacteria</td>\n",
       "      <td>100%</td>\n",
       "      <td>Family_IV</td>\n",
       "      <td>94%</td>\n",
       "      <td>GpIV</td>\n",
       "      <td>94%</td>\n",
       "    </tr>\n",
       "  </tbody>\n",
       "</table>\n",
       "</div>"
      ],
      "text/plain": [
       "   index              a  b     c     d         e     f  \\\n",
       "0      0   3G5_NODE_8_A  -  Root  100%  Bacteria  100%   \n",
       "1      1  1F9_NODE_11_A  +  Root  100%  Bacteria  100%   \n",
       "2      2  2C4_NODE_10_A  -  Root  100%  Bacteria  100%   \n",
       "3      6  2G3_NODE_14_A  +  Root  100%  Bacteria  100%   \n",
       "4      7  3C2_NODE_20_A  +  Root  100%  Bacteria  100%   \n",
       "\n",
       "                           g     h              i     j           k     l  \\\n",
       "0  Cyanobacteria/Chloroplast  100%  Cyanobacteria  100%    Family_I   79%   \n",
       "1  Cyanobacteria/Chloroplast  100%  Cyanobacteria  100%  Family_XII  100%   \n",
       "2  Cyanobacteria/Chloroplast  100%  Cyanobacteria  100%    Family_I   72%   \n",
       "3  Cyanobacteria/Chloroplast  100%  Cyanobacteria  100%    Family_I  100%   \n",
       "4  Cyanobacteria/Chloroplast  100%  Cyanobacteria  100%   Family_IV   94%   \n",
       "\n",
       "             m     n  \n",
       "0  Potamolinea   59%  \n",
       "1        GpXII  100%  \n",
       "2  Potamolinea   36%  \n",
       "3  Potamolinea  100%  \n",
       "4         GpIV   94%  "
      ]
     },
     "execution_count": 9,
     "metadata": {},
     "output_type": "execute_result"
    }
   ],
   "source": [
    "rdp_df_filt = rdp_df[rdp_df.g == \"Cyanobacteria/Chloroplast\"]\n",
    "rdp_df_filt.reset_index(inplace=True)\n",
    "\n",
    "rdp_df_filt[:5]"
   ]
  },
  {
   "cell_type": "markdown",
   "metadata": {},
   "source": [
    "**Saving 16S rRNA genes**"
   ]
  },
  {
   "cell_type": "code",
   "execution_count": 46,
   "metadata": {},
   "outputs": [],
   "source": [
    "okeania_list = ['2E6','1B1','2D2','3E6','1A3','2C1','1C4','3C6']"
   ]
  },
  {
   "cell_type": "code",
   "execution_count": 47,
   "metadata": {},
   "outputs": [
    {
     "name": "stdout",
     "output_type": "stream",
     "text": [
      "1C4_NODE_2_A\n",
      "3E6_NODE_25_A\n",
      "2 contigs renamed\n"
     ]
    },
    {
     "name": "stderr",
     "output_type": "stream",
     "text": [
      "/Users/tiagoferreiraleao/anaconda3/lib/python3.7/site-packages/ipykernel_launcher.py:3: DeprecationWarning: 'U' mode is deprecated\n",
      "  This is separate from the ipykernel package so we can avoid doing imports until\n"
     ]
    }
   ],
   "source": [
    "new_file = []\n",
    "\n",
    "input_handle = open(\"/Users/tiagoferreiraleao/Dropbox/tiago-NAS/cyanobiome/barrnap/cyanobiome_16S.ren.fasta\", \"rU\")\n",
    "outfile = \"/Users/tiagoferreiraleao/Dropbox/tiago-NAS/cyanobiome/barrnap/cyanobiome_16S.filtered.fasta\"\n",
    "\n",
    "node_count = 0\n",
    "for record in SeqIO.parse(input_handle, \"fasta\"):\n",
    "    if record.id in list(rdp_df_filt[\"a\"]) and record.id[:3] in okeania_list:\n",
    "        print(record.id)\n",
    "        node_count += 1\n",
    "        new_file.append(record)\n",
    "output_handle = open(outfile, \"w\")\n",
    "SeqIO.write(new_file, output_handle, \"fasta\")\n",
    "output_handle.close()\n",
    "input_handle.close()\n",
    "print(\"%s contigs renamed\"%(node_count))"
   ]
  },
  {
   "cell_type": "markdown",
   "metadata": {},
   "source": [
    "**Adding NCBI 16S rRNA sequences**"
   ]
  },
  {
   "cell_type": "code",
   "execution_count": 25,
   "metadata": {},
   "outputs": [],
   "source": [
    "%%bash\n",
    "\n",
    "cd /Users/tiagoferreiraleao/Dropbox/tiago-NAS/cyanobiome/barrnap/\n",
    "\n",
    "cat NCBI_symploca_16S_tree/*.txt > ./NCBI_16S.fasta\n",
    "\n",
    "cat NCBI_16S.fasta cyanobiome_16S.filtered.fasta > NCBI_cyanobiome_16S.fasta"
   ]
  },
  {
   "cell_type": "markdown",
   "metadata": {},
   "source": [
    "**Running MUSCLE and trimAl**"
   ]
  },
  {
   "cell_type": "code",
   "execution_count": 26,
   "metadata": {},
   "outputs": [],
   "source": [
    "#downloading trimAl\n",
    "# !wget http://trimal.cgenomics.org/_media/trimal.v1.2rev59.tar.gz -P /Users/tiagoferreiraleao/Dropbox/tiago-NAS/cyanobiome/barrnap/\n",
    "# !tar -xzf /Users/tiagoferreiraleao/Dropbox/tiago-NAS/cyanobiome/barrnap/trimal.v1.2rev59.tar.gz -C /Users/tiagoferreiraleao/Dropbox/tiago-NAS/cyanobiome/barrnap/; rm /Users/tiagoferreiraleao/Dropbox/tiago-NAS/cyanobiome/barrnap/trimal.v1.2rev59.tar.gz"
   ]
  },
  {
   "cell_type": "code",
   "execution_count": 27,
   "metadata": {},
   "outputs": [
    {
     "name": "stdout",
     "output_type": "stream",
     "text": [
      "g++ -Wall  -o readal readAl.cpp -lm alignment.o statisticsGaps.o utils.o similarityMatrix.o statisticsConservation.o sequencesMatrix.o compareFiles.o\n",
      "g++ -Wall  -o trimal  main.cpp -lm alignment.o statisticsGaps.o utils.o similarityMatrix.o statisticsConservation.o sequencesMatrix.o compareFiles.o\n"
     ]
    }
   ],
   "source": [
    "%%bash\n",
    "\n",
    "cd /Users/tiagoferreiraleao/Dropbox/tiago-NAS/cyanobiome/barrnap/trimAl/source/\n",
    "\n",
    "make #compiling trimAl"
   ]
  },
  {
   "cell_type": "code",
   "execution_count": 28,
   "metadata": {
    "scrolled": true
   },
   "outputs": [
    {
     "name": "stdout",
     "output_type": "stream",
     "text": [
      "\n",
      "MUSCLE v3.8.1551 by Robert C. Edgar\n",
      "\n",
      "http://www.drive5.com/muscle\n",
      "This software is donated to the public domain.\n",
      "Please cite: Edgar, R.C. Nucleic Acids Res 32(5), 1792-97.\n",
      "\n",
      "NCBI_cyanobiome_16S 31 seqs, lengths min 1292, max 2004, avg 1423\n",
      "00:00:00      1 MB(0%)  Iter   1  100.00%  K-mer dist pass 1\n",
      "00:00:00      1 MB(0%)  Iter   1  100.00%  K-mer dist pass 2\n",
      "00:00:01     35 MB(0%)  Iter   1  100.00%  Align node       \n",
      "00:00:01     35 MB(0%)  Iter   1  100.00%  Root alignment\n",
      "00:00:01     37 MB(0%)  Iter   2  100.00%  Refine tree   \n",
      "00:00:01     37 MB(0%)  Iter   2  100.00%  Root alignment\n",
      "00:00:01     37 MB(0%)  Iter   2  100.00%  Root alignment\n",
      "00:00:03     37 MB(0%)  Iter   3  100.00%  Refine biparts\n",
      "00:00:05     37 MB(0%)  Iter   4  100.00%  Refine biparts\n",
      "00:00:05     37 MB(0%)  Iter   5  100.00%  Refine biparts\n",
      "00:00:05     37 MB(0%)  Iter   5  100.00%  Refine biparts\n"
     ]
    }
   ],
   "source": [
    "!muscle -in /Users/tiagoferreiraleao/Dropbox/tiago-NAS/cyanobiome/barrnap/NCBI_cyanobiome_16S.fasta -out /Users/tiagoferreiraleao/Dropbox/tiago-NAS/cyanobiome/barrnap/NCBI_cyanobiome_16S.ali.fasta"
   ]
  },
  {
   "cell_type": "code",
   "execution_count": 29,
   "metadata": {},
   "outputs": [
    {
     "name": "stdout",
     "output_type": "stream",
     "text": [
      "Error: the symbol 'Y' accesing the matrix is not defined in this object\r\n",
      "Error: the symbol 'Y' accesing the matrix is not defined in this object\r\n",
      "Error: the symbol 'Y' accesing the matrix is not defined in this object\r\n",
      "Error: the symbol 'Y' accesing the matrix is not defined in this object\r\n",
      "Error: the symbol 'Y' accesing the matrix is not defined in this object\r\n",
      "Error: the symbol 'Y' accesing the matrix is not defined in this object\r\n",
      "Error: the symbol 'Y' accesing the matrix is not defined in this object\r\n",
      "Error: the symbol 'Y' accesing the matrix is not defined in this object\r\n",
      "Error: the symbol 'Y' accesing the matrix is not defined in this object\r\n",
      "Error: the symbol 'Y' accesing the matrix is not defined in this object\r\n",
      "Error: the symbol 'Y' accesing the matrix is not defined in this object\r\n",
      "Error: the symbol 'Y' accesing the matrix is not defined in this object\r\n",
      "Error: the symbol 'Y' accesing the matrix is not defined in this object\r\n",
      "Error: the symbol 'Y' accesing the matrix is not defined in this object\r\n",
      "Error: the symbol 'Y' accesing the matrix is not defined in this object\r\n",
      "Error: the symbol 'Y' accesing the matrix is not defined in this object\r\n",
      "Error: the symbol 'Y' accesing the matrix is not defined in this object\r\n",
      "Error: the symbol 'Y' accesing the matrix is not defined in this object\r\n",
      "Error: the symbol 'Y' accesing the matrix is not defined in this object\r\n",
      "Error: the symbol 'Y' accesing the matrix is not defined in this object\r\n",
      "Error: the symbol 'Y' accesing the matrix is not defined in this object\r\n",
      "Error: the symbol 'Y' accesing the matrix is not defined in this object\r\n",
      "Error: the symbol 'Y' accesing the matrix is not defined in this object\r\n",
      "Error: the symbol 'Y' accesing the matrix is not defined in this object\r\n",
      "Error: the symbol 'Y' accesing the matrix is not defined in this object\r\n",
      "Error: the symbol 'Y' accesing the matrix is not defined in this object\r\n",
      "Error: the symbol 'Y' accesing the matrix is not defined in this object\r\n",
      "Error: the symbol 'Y' accesing the matrix is not defined in this object\r\n",
      "Error: the symbol 'Y' accesing the matrix is not defined in this object\r\n",
      "Error: the symbol 'Y' accesing the matrix is not defined in this object\r\n",
      "Error: the symbol 'R' accesing the matrix is not defined in this object\r\n",
      "Error: the symbol 'R' accesing the matrix is not defined in this object\r\n"
     ]
    }
   ],
   "source": [
    "!/Users/tiagoferreiraleao/Dropbox/tiago-NAS/cyanobiome/barrnap/trimAl/source/trimal -in /Users/tiagoferreiraleao/Dropbox/tiago-NAS/cyanobiome/barrnap/NCBI_cyanobiome_16S.ali.fasta \\\n",
    "-out /Users/tiagoferreiraleao/Dropbox/tiago-NAS/cyanobiome/barrnap/NCBI_cyanobiome_16S.trimmed.fasta -gt 0.8 -st 0.001 -cons 70"
   ]
  },
  {
   "cell_type": "markdown",
   "metadata": {},
   "source": [
    "**Adding Name to Label**"
   ]
  },
  {
   "cell_type": "code",
   "execution_count": 30,
   "metadata": {},
   "outputs": [
    {
     "data": {
      "text/plain": [
       "{'AY172802.1': 'AY172802.1_Synechococcus_sp.',\n",
       " 'NR_074317.1': 'NR_074317.1_Nostoc_punctiforme',\n",
       " 'KF746599.1': 'KF746599.1_Caldora_penicillata',\n",
       " 'GQ351563.1': 'GQ351563.1_Planktothrix_agardhii',\n",
       " 'KF746602.1': 'KF746602.1_Caldora_penicillata',\n",
       " 'KF746598.1': 'KF746598.1_Caldora_penicillata',\n",
       " 'HF678501.1': 'HF678501.1_Anabaena_variabilis',\n",
       " 'KF746607.1': 'KF746607.1_Caldora_penicillata',\n",
       " 'LC534980.1': 'LC534980.1_Caldora_sp.',\n",
       " 'EU315909.1': 'EU315909.1_Moorea_producens',\n",
       " 'EF654039.1': 'EF654039.1_Coleofasciculus_chthonoplastes',\n",
       " 'KF746603.1': 'KF746603.1_Caldora_penicillata',\n",
       " 'KF746601.1': 'KF746601.1_Caldora_penicillata',\n",
       " 'KF746590.1': 'KF746590.1_Caldora_penicillata',\n",
       " 'KF746592.1': 'KF746592.1_Caldora_penicillata',\n",
       " 'FJ041298.1': 'FJ041298.1_Moorea_bouillonii',\n",
       " 'AY172836.1': 'AY172836.1_Synechococcus_sp.',\n",
       " 'EF654054.1': 'EF654054.1_Coleofasciculus_chthonoplastes',\n",
       " 'LC534997.1': 'LC534997.1_Caldora_sp.',\n",
       " 'GQ402025.1': 'GQ402025.1_Symploca_sp.',\n",
       " 'NR_074282.1': 'NR_074282.1_Gloeobacter_violaceus',\n",
       " 'KF746594.1': 'KF746594.1_Caldora_penicillata',\n",
       " 'FJ151521.1': 'FJ151521.1_Moorea_producens',\n",
       " 'KF746593.1': 'KF746593.1_Caldora_penicillata',\n",
       " 'AB039021.1': 'AB039021.1_Symploca_atlantica',\n",
       " 'KF746591.1': 'KF746591.1_Caldora_penicillata',\n",
       " 'KF746595.1': 'KF746595.1_Caldora_penicillata',\n",
       " 'KF746608.1': 'KF746608.1_Caldora_penicillata',\n",
       " 'EU249122.1': 'EU249122.1_Symploca_sp.',\n",
       " 'GQ402026.1': 'GQ402026.1_Symploca_atlantica'}"
      ]
     },
     "execution_count": 30,
     "metadata": {},
     "output_type": "execute_result"
    }
   ],
   "source": [
    "record_dict = {}\n",
    "input_list = glob.glob('/Users/tiagoferreiraleao/Dropbox/tiago-NAS/cyanobiome/barrnap/NCBI_symploca_16S_tree/*.txt')\n",
    "\n",
    "for item in input_list:\n",
    "    with open(item) as f:\n",
    "        first_line = f.readline()\n",
    "        ncbi_id = first_line.split(' ')[0][1:]\n",
    "        taxa_info = ncbi_id + '_' + first_line.split(' ')[1] + '_' + first_line.split(' ')[2]\n",
    "        record_dict[ncbi_id] = taxa_info\n",
    "        \n",
    "record_dict"
   ]
  },
  {
   "cell_type": "code",
   "execution_count": 32,
   "metadata": {},
   "outputs": [],
   "source": [
    "new_file = []\n",
    "\n",
    "for record in SeqIO.parse(\"./barrnap/NCBI_cyanobiome_16S.trimmed.fasta\", \"fasta\"):\n",
    "    if record.id in record_dict:\n",
    "        record.id = record_dict[record.id]\n",
    "    new_file.append(record)\n",
    "output_handle = open(\"./barrnap/NCBI_cyanobiome_16S.ren.trimmed.fasta\", \"w\")\n",
    "SeqIO.write(new_file, output_handle, \"fasta\")\n",
    "output_handle.close()"
   ]
  },
  {
   "cell_type": "markdown",
   "metadata": {},
   "source": [
    "**Creating tree**"
   ]
  },
  {
   "cell_type": "code",
   "execution_count": 23,
   "metadata": {},
   "outputs": [],
   "source": [
    "# !wget http://www.microbesonline.org/fasttree/FastTree -P /Users/tiagoferreiraleao/Dropbox/tiago-NAS/cyanobiome/barrnap/\n",
    "!chmod -R 777 /Users/tiagoferreiraleao/Dropbox/tiago-NAS/cyanobiome/barrnap/FastTree"
   ]
  },
  {
   "cell_type": "markdown",
   "metadata": {},
   "source": [
    "```\n",
    "cd /Users/tiagoferreiraleao/Dropbox/tiago-NAS/cyanobiome/barrnap/\n",
    "\n",
    "FastTree -nt < /Users/tiagoferreiraleao/Dropbox/tiago-NAS/cyanobiome/barrnap/NCBI_cyanobiome_16S.ren.trimmed.fasta > /Users/tiagoferreiraleao/Dropbox/tiago-NAS/cyanobiome/barrnap/concat_genes.tree\n",
    "```"
   ]
  },
  {
   "cell_type": "code",
   "execution_count": null,
   "metadata": {},
   "outputs": [],
   "source": []
  }
 ],
 "metadata": {
  "kernelspec": {
   "display_name": "Python 3",
   "language": "python",
   "name": "python3"
  },
  "language_info": {
   "codemirror_mode": {
    "name": "ipython",
    "version": 3
   },
   "file_extension": ".py",
   "mimetype": "text/x-python",
   "name": "python",
   "nbconvert_exporter": "python",
   "pygments_lexer": "ipython3",
   "version": "3.7.6"
  }
 },
 "nbformat": 4,
 "nbformat_minor": 4
}
