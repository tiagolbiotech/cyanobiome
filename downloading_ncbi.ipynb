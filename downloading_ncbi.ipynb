{
 "cells": [
  {
   "cell_type": "markdown",
   "metadata": {},
   "source": [
    "# Notebook 2 - Downloading NCBI and Running AntiSMASH\n",
    "\n",
    "`Created at 24-February-2020`\n",
    "\n",
    "This notebook helps to download all cyanobacterial genomes at NCBI.\n"
   ]
  },
  {
   "cell_type": "markdown",
   "metadata": {},
   "source": [
    "**Downloading NCBI Genomes**"
   ]
  },
  {
   "cell_type": "markdown",
   "metadata": {},
   "source": [
    "- Search for cyanobacteria at [this link here](https://www.ncbi.nlm.nih.gov/Traces/wgs/?page=1&view=all&search=cyanobacteria)\n",
    "- Download spreadsheet using the download button\n",
    "- Upload the file into your server (folder named inputs) and then run the cell below"
   ]
  },
  {
   "cell_type": "code",
   "execution_count": 3,
   "metadata": {},
   "outputs": [],
   "source": [
    "import os\n",
    "import subprocess\n",
    "import time\n",
    "from itertools import islice\n",
    "import pandas as pd\n",
    "import glob"
   ]
  },
  {
   "cell_type": "code",
   "execution_count": 5,
   "metadata": {},
   "outputs": [
    {
     "name": "stdout",
     "output_type": "stream",
     "text": [
      "mkdir: cannot create directory ‘./ncbi_genomes/’: File exists\n",
      "2540\n"
     ]
    }
   ],
   "source": [
    "if os.path.exists(\"./inputs/wgs_selector.csv\"):\n",
    "    !mkdir ./ncbi_genomes/\n",
    "    commands = []\n",
    "    count = 0\n",
    "    !cat ./inputs/wgs_selector.csv | tr \"\\t\" \"~\" | cut -d\"~\" -f1 | sed 1d > ./inputs/ids.txt\n",
    "    with open(\"./inputs/ids.txt\") as ids:\n",
    "        for code in ids:\n",
    "            prefix = code.split(',')[0]\n",
    "            count += 1\n",
    "            if not os.path.isfile('./ncbi_genomes/%s.fasta'%prefix):\n",
    "                if '_' in prefix:\n",
    "                    prefix = prefix.split('_')[1]\n",
    "                if len(prefix) > 6:\n",
    "                    line1 = \"wget https://sra-download.ncbi.nlm.nih.gov/traces/wgs01/wgs_aux/%s/%s/%s/%s/%s.1.fsa_nt.gz\"%(prefix[0:2],prefix[2:4],prefix[4:6],prefix,prefix)\n",
    "                    line2 = \"gunzip -c %s.1.fsa_nt.gz > %s.fasta\"%(prefix,prefix)\n",
    "                    commands.append(line1)\n",
    "                    commands.append(line2)\n",
    "                else:\n",
    "                    line1 = \"wget https://sra-download.ncbi.nlm.nih.gov/traces/wgs03/wgs_aux/%s/%s/%s/%s.1.fsa_nt.gz\"%(prefix[0:2],prefix[2:4],prefix,prefix)\n",
    "                    line2 = \"gunzip -c %s.1.fsa_nt.gz > %s.fasta\"%(prefix,prefix)\n",
    "                    commands.append(line1)\n",
    "                    commands.append(line2)\n",
    "    table1_handle = open('./ncbi_genomes/download_cyanobacteria.sh', \"w\")\n",
    "    cmd_df = pd.DataFrame(commands)\n",
    "    cmd_df.to_csv(table1_handle, sep='\\t', index=False, header=False)\n",
    "    table1_handle.close()\n",
    "    !rm ./inputs/ids.txt\n",
    "else:\n",
    "    raise ValueError(\"File ./inputs/wgs_selector.txt not found, please upload the file inside the folder ./inputs/\")\n",
    "    \n",
    "print(count)"
   ]
  },
  {
   "cell_type": "markdown",
   "metadata": {},
   "source": [
    "To download the selected genomes, run:\n",
    "\n",
    "```bash\n",
    "cd ./ncbi_genomes/\n",
    "\n",
    "sh ./download_cyanobacteria.sh\n",
    "\n",
    "rm *.gz\n",
    "```"
   ]
  },
  {
   "cell_type": "code",
   "execution_count": 21,
   "metadata": {},
   "outputs": [
    {
     "name": "stdout",
     "output_type": "stream",
     "text": [
      "2102\n"
     ]
    }
   ],
   "source": [
    "!ls ./ncbi_genomes/*fasta | wc -l"
   ]
  }
 ],
 "metadata": {
  "kernelspec": {
   "display_name": "Python 3",
   "language": "python",
   "name": "python3"
  },
  "language_info": {
   "codemirror_mode": {
    "name": "ipython",
    "version": 3
   },
   "file_extension": ".py",
   "mimetype": "text/x-python",
   "name": "python",
   "nbconvert_exporter": "python",
   "pygments_lexer": "ipython3",
   "version": "3.7.6"
  }
 },
 "nbformat": 4,
 "nbformat_minor": 4
}
