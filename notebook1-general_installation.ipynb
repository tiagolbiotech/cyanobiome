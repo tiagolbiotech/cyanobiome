{
 "cells": [
  {
   "cell_type": "markdown",
   "metadata": {},
   "source": [
    "# Notebook 1 - General Installation\n",
    "\n",
    "`Created at 24-February-2020.`\n",
    "\n",
    "This notebook helps to open a AWS remote terminal, to install Anaconda at your AWS console, to access Jupyter remotely and to install other packages required for our future analyses."
   ]
  },
  {
   "cell_type": "markdown",
   "metadata": {},
   "source": [
    "**AWS Console Requirements**\n",
    "- Instance ID: i-0ebb6eafbcf6594c3\n",
    "- Instance type: m5ad.4xlarge\n",
    "- Root device: 300Gb at /dev/xvda\n",
    "- Block devices: 300Gb at /dev/xvda and 400Gb at /dev/sdb\n",
    "- Number of vCPUs: 16\n",
    "\n",
    "\n",
    "**Installing Anaconda and Jupyter at AWS computer**\n",
    "\n",
    "Open a remote terminal by [Connecting to Your Linux Instance using an SSH Client](https://docs.aws.amazon.com/AWSEC2/latest/UserGuide/AccessingInstancesLinux.html). Then run the code below:\n",
    "\n",
    "```bash\n",
    "curl -O https://repo.continuum.io/archive/Anaconda3-5.0.0-Linux-x86_64.sh\n",
    "sh Anaconda3-5.0.0-Linux-x86_64.sh\n",
    "\n",
    "cat >>/home/ec2-user/.jupyter/jupyter_notebook_config.py <<EOF\n",
    "c = get_config()\n",
    "c.NotebookApp.ip = '*'\n",
    "c.NotebookApp.open_browser = False\n",
    "c.NotebookApp.password = u'sha1:5d813e5d59a7:b4e430cf6dbd1aad04838c6e9cf684f4d76e245c'\n",
    "c.NotebookApp.port = 8000\n",
    "EOF\n",
    "\n",
    "screen\n",
    "\n",
    "ipython notebook --no-browser --port=8889\n",
    "```\n",
    "\n",
    "Exit screen by pressing `Ctrl+A+D`.\n",
    "\n",
    "On your mac/linux terminal, access the jupyter platform via SSH Tunnel:\n",
    "\n",
    "```bash\n",
    "ssh -N -f -L localhost:8888:localhost:8889 -i ~/Downloads/amazon-key.pem ec2-user@3.12.151.122\n",
    "```\n",
    "\n",
    "Go to your browser and enter the url `http://localhost:8888/`"
   ]
  },
  {
   "cell_type": "markdown",
   "metadata": {},
   "source": [
    "**Installing Softwares with yum**\n",
    "\n",
    "```bash\n",
    "sudo yum update\n",
    "sudo yum install git\n",
    "```"
   ]
  },
  {
   "cell_type": "markdown",
   "metadata": {},
   "source": [
    "**Installing Softwares with pip**\n",
    "\n",
    "```bash\n",
    "pip install --upgrade pip\n",
    "```"
   ]
  },
  {
   "cell_type": "markdown",
   "metadata": {},
   "source": [
    "**Cloning Cyanobiome Repository**\n",
    "\n",
    "```bash\n",
    "git clone https://github.com/tiagolbiotech/cyanobiome.git\n",
    "```"
   ]
  },
  {
   "cell_type": "code",
   "execution_count": null,
   "metadata": {
    "collapsed": true
   },
   "outputs": [],
   "source": []
  }
 ],
 "metadata": {
  "kernelspec": {
   "display_name": "Python 3",
   "language": "python",
   "name": "python3"
  },
  "language_info": {
   "codemirror_mode": {
    "name": "ipython",
    "version": 3
   },
   "file_extension": ".py",
   "mimetype": "text/x-python",
   "name": "python",
   "nbconvert_exporter": "python",
   "pygments_lexer": "ipython3",
   "version": "3.6.2"
  }
 },
 "nbformat": 4,
 "nbformat_minor": 2
}
