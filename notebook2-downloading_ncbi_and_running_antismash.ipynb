{
 "cells": [
  {
   "cell_type": "code",
   "execution_count": 3,
   "metadata": {},
   "outputs": [],
   "source": [
    "import os\n",
    "import subprocess\n",
    "import time\n",
    "from itertools import islice\n",
    "import pandas as pd\n",
    "import glob"
   ]
  },
  {
   "cell_type": "markdown",
   "metadata": {},
   "source": [
    "# Notebook 2 - Downloading NCBI, Running AntiSMASH and Obtaining Metadata\n",
    "\n",
    "This notebook helps to download all cyanobacterial genomes at NCBI and to run antiSMASH for the downloaded genomes.\n"
   ]
  },
  {
   "cell_type": "markdown",
   "metadata": {},
   "source": [
    "**Downloading NCBI Genomes**"
   ]
  },
  {
   "cell_type": "markdown",
   "metadata": {},
   "source": [
    "- Search for cyanobacteria at [this link here](https://www.ncbi.nlm.nih.gov/Traces/wgs/?page=1&view=all&search=cyanobacteria)\n",
    "- Download spreadsheet using the download button\n",
    "- Upload the file into your server (folder named inputs) and then run the cell below"
   ]
  },
  {
   "cell_type": "code",
   "execution_count": 5,
   "metadata": {},
   "outputs": [
    {
     "name": "stdout",
     "output_type": "stream",
     "text": [
      "mkdir: cannot create directory ‘./ncbi_genomes/’: File exists\n",
      "2540\n"
     ]
    }
   ],
   "source": [
    "if os.path.exists(\"./inputs/wgs_selector.csv\"):\n",
    "    !mkdir ./ncbi_genomes/\n",
    "    commands = []\n",
    "    count = 0\n",
    "    !cat ./inputs/wgs_selector.csv | tr \"\\t\" \"~\" | cut -d\"~\" -f1 | sed 1d > ./inputs/ids.txt\n",
    "    with open(\"./inputs/ids.txt\") as ids:\n",
    "        for code in ids:\n",
    "            prefix = code.split(',')[0]\n",
    "            count += 1\n",
    "            if not os.path.isfile('./ncbi_genomes/%s.fasta'%prefix):\n",
    "                if '_' in prefix:\n",
    "                    prefix = prefix.split('_')[1]\n",
    "                if len(prefix) > 6:\n",
    "                    line1 = \"wget https://sra-download.ncbi.nlm.nih.gov/traces/wgs01/wgs_aux/%s/%s/%s/%s/%s.1.fsa_nt.gz\"%(prefix[0:2],prefix[2:4],prefix[4:6],prefix,prefix)\n",
    "                    line2 = \"gunzip -c %s.1.fsa_nt.gz > %s.fasta\"%(prefix,prefix)\n",
    "                    commands.append(line1)\n",
    "                    commands.append(line2)\n",
    "                else:\n",
    "                    line1 = \"wget https://sra-download.ncbi.nlm.nih.gov/traces/wgs03/wgs_aux/%s/%s/%s/%s.1.fsa_nt.gz\"%(prefix[0:2],prefix[2:4],prefix,prefix)\n",
    "                    line2 = \"gunzip -c %s.1.fsa_nt.gz > %s.fasta\"%(prefix,prefix)\n",
    "                    commands.append(line1)\n",
    "                    commands.append(line2)\n",
    "    table1_handle = open('./ncbi_genomes/download_cyanobacteria.sh', \"w\")\n",
    "    cmd_df = pd.DataFrame(commands)\n",
    "    cmd_df.to_csv(table1_handle, sep='\\t', index=False, header=False)\n",
    "    table1_handle.close()\n",
    "    !rm ./inputs/ids.txt\n",
    "else:\n",
    "    raise ValueError(\"File ./inputs/wgs_selector.txt not found, please upload the file inside the folder ./inputs/\")\n",
    "    \n",
    "print(count)"
   ]
  },
  {
   "cell_type": "markdown",
   "metadata": {},
   "source": [
    "To download the selected genomes, run:\n",
    "\n",
    "```bash\n",
    "cd ./ncbi_genomes/\n",
    "\n",
    "sh ./download_cyanobacteria.sh\n",
    "\n",
    "rm *.gz\n",
    "```"
   ]
  },
  {
   "cell_type": "code",
   "execution_count": 21,
   "metadata": {},
   "outputs": [
    {
     "name": "stdout",
     "output_type": "stream",
     "text": [
      "2102\n"
     ]
    }
   ],
   "source": [
    "!ls ./ncbi_genomes/*fasta | wc -l"
   ]
  },
  {
   "cell_type": "markdown",
   "metadata": {},
   "source": [
    "**Removing NCBI FASTA Files with Size Zero**"
   ]
  },
  {
   "cell_type": "code",
   "execution_count": 9,
   "metadata": {},
   "outputs": [],
   "source": [
    "glob_list = glob.glob('./ncbi_genomes/*fasta')\n",
    "\n",
    "for item in glob_list:\n",
    "    if os.stat(item).st_size == 0:\n",
    "        cmd = 'rm %s'%item\n",
    "        subprocess.call(cmd,shell=True)"
   ]
  },
  {
   "cell_type": "code",
   "execution_count": 10,
   "metadata": {},
   "outputs": [
    {
     "name": "stdout",
     "output_type": "stream",
     "text": [
      "1923\n"
     ]
    }
   ],
   "source": [
    "!ls ./ncbi_genomes/*fasta | wc -l"
   ]
  },
  {
   "cell_type": "markdown",
   "metadata": {},
   "source": [
    "**Running antiSMASH**\n",
    "\n",
    "https://github.com/mwang87/IOMEGA_Antismash_pipeline\n",
    "\n",
    "To run, your dependencies will be:\n",
    "```\n",
    "docker\n",
    "nextflow - you can install via conda\n",
    "```\n",
    "\n",
    "To actually run:\n",
    "```\n",
    "Put files in to input_sequences folder\n",
    "make run\n",
    "```"
   ]
  },
  {
   "cell_type": "markdown",
   "metadata": {},
   "source": [
    "**Obtaning Metadata for Table 1 and Dataset S1 (sheet 1)**"
   ]
  },
  {
   "cell_type": "code",
   "execution_count": 7,
   "metadata": {},
   "outputs": [
    {
     "name": "stdout",
     "output_type": "stream",
     "text": [
      "1919 1919 1919 1919 1919 1919 1919\n"
     ]
    }
   ],
   "source": [
    "from Bio import SeqIO\n",
    "from Bio.SeqUtils import GC\n",
    "import numpy as np\n",
    "import glob\n",
    "import pandas as pd\n",
    "\n",
    "glob_AS = glob.glob('./ncbi_antismash/nf_output/*/')\n",
    "genome_list,taxa_list,fragBGC,compBGC,totalBGC,seen = [],[],[],[],[],[]\n",
    "\n",
    "for AS_path in glob_AS:\n",
    "    genome_file = (AS_path.split('/')[3]).split('_')[0]\n",
    "    if genome_file.split('.')[0] != 'mibig':\n",
    "        genome_list.append(genome_file.split('.')[0])\n",
    "        genome_path = \"./ncbi_genomes/%s\"%genome_file\n",
    "        with open(genome_path) as f:\n",
    "            first_line = f.readline()\n",
    "            if 'TPA_asm:' in str(first_line):\n",
    "                taxa = first_line.split(' ')[2]\n",
    "            if 'uncultured' in str(first_line):\n",
    "                taxa = first_line.split(' ')[2]\n",
    "            if 'TPA_asm:' not in str(first_line) and 'uncultured' not in str(first_line):\n",
    "                taxa = first_line.split(' ')[1]\n",
    "            taxa_list.append(taxa)\n",
    "        glob_BGCs = glob.glob('%s/*region*.gbk'%AS_path)\n",
    "        if glob_BGCs:\n",
    "            frag_count = 0\n",
    "            comp_count = 0\n",
    "            for BGC in glob_BGCs:\n",
    "                input_handle = open(BGC,\"r\")\n",
    "                for record in SeqIO.parse(input_handle,\"genbank\"):\n",
    "                    for feat in record.features:\n",
    "                        if feat.type == 'cand_cluster':\n",
    "                            if BGC not in seen:\n",
    "                                seen.append(BGC)\n",
    "                                if str(feat.qualifiers['contig_edge'][0]) == 'True':\n",
    "                                    frag_count += 1\n",
    "                                else:\n",
    "                                    comp_count += 1\n",
    "            fragBGC.append(frag_count)\n",
    "            compBGC.append(comp_count)\n",
    "            totalBGC.append(frag_count+comp_count)\n",
    "        else:\n",
    "            fragBGC.append(0)\n",
    "            compBGC.append(0)\n",
    "            totalBGC.append(0)\n",
    "    \n",
    "\n",
    "def get_draft_counts(query_genome):\n",
    "    input_handle = open(query_genome,\"r\")\n",
    "    node_count = 0\n",
    "    gc_count = []\n",
    "    for record in SeqIO.parse(input_handle,\"fasta\"):\n",
    "        node_count += 1\n",
    "        gc_count.append(GC(record.seq))\n",
    "    gc_average = np.average(gc_count)\n",
    "    return node_count,gc_average\n",
    "    input_handle.close()\n",
    "\n",
    "node_list,gc_list = [],[]\n",
    "    \n",
    "for genome in genome_list:\n",
    "    node_count,gc_average = get_draft_counts('./ncbi_genomes/%s.fasta'%genome)\n",
    "    node_list.append(node_count)\n",
    "    gc_list.append(gc_average)\n",
    "\n",
    "print(len(genome_list),len(taxa_list),len(node_list),len(gc_list),len(fragBGC),len(compBGC),len(totalBGC))\n",
    "\n",
    "frames = {'GenomeID':genome_list,'Taxa':taxa_list,'Scaffold_count':node_list,\n",
    "         'GC_content':gc_list,'Fragmented_BGCs':fragBGC,'Complete_BGCs':compBGC,\n",
    "         'Total_BGCs':totalBGC}\n",
    "\n",
    "metadata_df = pd.DataFrame(data=frames)\n",
    "\n",
    "# metadata_df.to_csv('cyanobiome_metadata_df-TFL200507.tsv',sep='\\t')"
   ]
  },
  {
   "cell_type": "code",
   "execution_count": 8,
   "metadata": {},
   "outputs": [
    {
     "data": {
      "text/html": [
       "<div>\n",
       "<style scoped>\n",
       "    .dataframe tbody tr th:only-of-type {\n",
       "        vertical-align: middle;\n",
       "    }\n",
       "\n",
       "    .dataframe tbody tr th {\n",
       "        vertical-align: top;\n",
       "    }\n",
       "\n",
       "    .dataframe thead th {\n",
       "        text-align: right;\n",
       "    }\n",
       "</style>\n",
       "<table border=\"1\" class=\"dataframe\">\n",
       "  <thead>\n",
       "    <tr style=\"text-align: right;\">\n",
       "      <th></th>\n",
       "      <th>GenomeID</th>\n",
       "      <th>Taxa</th>\n",
       "      <th>Scaffold_count</th>\n",
       "      <th>GC_content</th>\n",
       "      <th>Fragmented_BGCs</th>\n",
       "      <th>Complete_BGCs</th>\n",
       "      <th>Total_BGCs</th>\n",
       "    </tr>\n",
       "  </thead>\n",
       "  <tbody>\n",
       "    <tr>\n",
       "      <th>0</th>\n",
       "      <td>QCLE01</td>\n",
       "      <td>Prochlorococcus</td>\n",
       "      <td>58</td>\n",
       "      <td>31.954075</td>\n",
       "      <td>0</td>\n",
       "      <td>3</td>\n",
       "      <td>3</td>\n",
       "    </tr>\n",
       "    <tr>\n",
       "      <th>1</th>\n",
       "      <td>DCSN01</td>\n",
       "      <td>Pseudanabaena</td>\n",
       "      <td>259</td>\n",
       "      <td>42.444255</td>\n",
       "      <td>1</td>\n",
       "      <td>2</td>\n",
       "      <td>3</td>\n",
       "    </tr>\n",
       "    <tr>\n",
       "      <th>2</th>\n",
       "      <td>CACKIV01</td>\n",
       "      <td>Synechococcaceae</td>\n",
       "      <td>49</td>\n",
       "      <td>31.173408</td>\n",
       "      <td>2</td>\n",
       "      <td>0</td>\n",
       "      <td>2</td>\n",
       "    </tr>\n",
       "    <tr>\n",
       "      <th>3</th>\n",
       "      <td>CACJNU01</td>\n",
       "      <td>Prochlorococcus</td>\n",
       "      <td>41</td>\n",
       "      <td>32.097832</td>\n",
       "      <td>3</td>\n",
       "      <td>1</td>\n",
       "      <td>4</td>\n",
       "    </tr>\n",
       "    <tr>\n",
       "      <th>4</th>\n",
       "      <td>QCFU01</td>\n",
       "      <td>Prochlorococcus</td>\n",
       "      <td>26</td>\n",
       "      <td>35.902717</td>\n",
       "      <td>1</td>\n",
       "      <td>4</td>\n",
       "      <td>5</td>\n",
       "    </tr>\n",
       "    <tr>\n",
       "      <th>...</th>\n",
       "      <td>...</td>\n",
       "      <td>...</td>\n",
       "      <td>...</td>\n",
       "      <td>...</td>\n",
       "      <td>...</td>\n",
       "      <td>...</td>\n",
       "      <td>...</td>\n",
       "    </tr>\n",
       "    <tr>\n",
       "      <th>1914</th>\n",
       "      <td>MWOR01</td>\n",
       "      <td>Prochlorococcus</td>\n",
       "      <td>281</td>\n",
       "      <td>30.968521</td>\n",
       "      <td>0</td>\n",
       "      <td>3</td>\n",
       "      <td>3</td>\n",
       "    </tr>\n",
       "    <tr>\n",
       "      <th>1915</th>\n",
       "      <td>JAADAL01</td>\n",
       "      <td>Microcystis</td>\n",
       "      <td>765</td>\n",
       "      <td>42.738184</td>\n",
       "      <td>17</td>\n",
       "      <td>0</td>\n",
       "      <td>17</td>\n",
       "    </tr>\n",
       "    <tr>\n",
       "      <th>1916</th>\n",
       "      <td>JFML01</td>\n",
       "      <td>Prochlorococcus</td>\n",
       "      <td>255</td>\n",
       "      <td>30.940778</td>\n",
       "      <td>0</td>\n",
       "      <td>4</td>\n",
       "      <td>4</td>\n",
       "    </tr>\n",
       "    <tr>\n",
       "      <th>1917</th>\n",
       "      <td>QCEH01</td>\n",
       "      <td>Prochlorococcus</td>\n",
       "      <td>15</td>\n",
       "      <td>32.569129</td>\n",
       "      <td>0</td>\n",
       "      <td>1</td>\n",
       "      <td>1</td>\n",
       "    </tr>\n",
       "    <tr>\n",
       "      <th>1918</th>\n",
       "      <td>CACCGY01</td>\n",
       "      <td>Prochlorococcus</td>\n",
       "      <td>33</td>\n",
       "      <td>31.548752</td>\n",
       "      <td>1</td>\n",
       "      <td>0</td>\n",
       "      <td>1</td>\n",
       "    </tr>\n",
       "  </tbody>\n",
       "</table>\n",
       "<p>1919 rows × 7 columns</p>\n",
       "</div>"
      ],
      "text/plain": [
       "      GenomeID              Taxa  Scaffold_count  GC_content  Fragmented_BGCs  \\\n",
       "0       QCLE01   Prochlorococcus              58   31.954075                0   \n",
       "1       DCSN01     Pseudanabaena             259   42.444255                1   \n",
       "2     CACKIV01  Synechococcaceae              49   31.173408                2   \n",
       "3     CACJNU01   Prochlorococcus              41   32.097832                3   \n",
       "4       QCFU01   Prochlorococcus              26   35.902717                1   \n",
       "...        ...               ...             ...         ...              ...   \n",
       "1914    MWOR01   Prochlorococcus             281   30.968521                0   \n",
       "1915  JAADAL01       Microcystis             765   42.738184               17   \n",
       "1916    JFML01   Prochlorococcus             255   30.940778                0   \n",
       "1917    QCEH01   Prochlorococcus              15   32.569129                0   \n",
       "1918  CACCGY01   Prochlorococcus              33   31.548752                1   \n",
       "\n",
       "      Complete_BGCs  Total_BGCs  \n",
       "0                 3           3  \n",
       "1                 2           3  \n",
       "2                 0           2  \n",
       "3                 1           4  \n",
       "4                 4           5  \n",
       "...             ...         ...  \n",
       "1914              3           3  \n",
       "1915              0          17  \n",
       "1916              4           4  \n",
       "1917              1           1  \n",
       "1918              0           1  \n",
       "\n",
       "[1919 rows x 7 columns]"
      ]
     },
     "execution_count": 8,
     "metadata": {},
     "output_type": "execute_result"
    }
   ],
   "source": [
    "metadata_df"
   ]
  },
  {
   "cell_type": "code",
   "execution_count": 9,
   "metadata": {},
   "outputs": [
    {
     "data": {
      "text/plain": [
       "(3.9676915059927045, 2.5257946847316313)"
      ]
     },
     "execution_count": 9,
     "metadata": {},
     "output_type": "execute_result"
    }
   ],
   "source": [
    "np.average(metadata_df['Fragmented_BGCs']),np.average(metadata_df['Complete_BGCs'])"
   ]
  }
 ],
 "metadata": {
  "kernelspec": {
   "display_name": "Python 3",
   "language": "python",
   "name": "python3"
  },
  "language_info": {
   "codemirror_mode": {
    "name": "ipython",
    "version": 3
   },
   "file_extension": ".py",
   "mimetype": "text/x-python",
   "name": "python",
   "nbconvert_exporter": "python",
   "pygments_lexer": "ipython3",
   "version": "3.8.2"
  }
 },
 "nbformat": 4,
 "nbformat_minor": 4
}
